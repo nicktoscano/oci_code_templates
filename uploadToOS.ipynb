{
 "cells": [
  {
   "cell_type": "code",
   "execution_count": null,
   "id": "b0a512ff",
   "metadata": {},
   "outputs": [],
   "source": [
    "from array import array \n",
    "from pathlib import Path \n",
    "import oci \n",
    "from multiprocessing import Process \n",
    "from multiprocessing import Semaphore "
   ]
  },
  {
   "cell_type": "code",
   "execution_count": null,
   "id": "9d266b9b",
   "metadata": {},
   "outputs": [],
   "source": [
    "# Number of max processes allowed at a time \n",
    "concurrency= 5 \n",
    "sema = Semaphore(concurrency) \n",
    "# The root directory path, Replace with your path \n",
    "p = Path('/home/datascience/vulcan_2_0/user_2/data/img_packs/') \n",
    "# The Compartment OCID \n",
    "compartment_id = \"ocid1.compartment.oc1..aaaaaaaa334d2c5yz5agpeifnxs5kxbdw2ywsizjjjgddzp5edrxweassqya\" \n",
    "# The Bucket name where we will upload \n",
    "bucket_name = \"cairo_images\" "
   ]
  },
  {
   "cell_type": "code",
   "execution_count": null,
   "id": "7795331c",
   "metadata": {},
   "outputs": [],
   "source": [
    "def upload_to_object_storage(path:str,name:str,object_storage_client,namespace): \n",
    "  with open(path, \"rb\") as in_file: \n",
    "    print(\"Starting upload {}\", format(name)) \n",
    "    object_storage_client.put_object(namespace,bucket_name,name,in_file) \n",
    "    print(\"Finished uploading {}\".format(name)) \n",
    "    sema.release() "
   ]
  },
  {
   "cell_type": "code",
   "execution_count": null,
   "id": "7dc21e6d",
   "metadata": {},
   "outputs": [],
   "source": [
    "def createUploadProcess(object:Path,object_storage_client,namespace,proc_list): \n",
    "  name = object.relative_to(p).as_posix() \n",
    "  sema.acquire() \n",
    "  process = Process(target=upload_to_object_storage, args=(object.as_posix(),name,object_storage_client,namespace)) \n",
    "  proc_list.append(process) \n",
    "  process.start() "
   ]
  },
  {
   "cell_type": "code",
   "execution_count": null,
   "id": "bf74a94d",
   "metadata": {},
   "outputs": [],
   "source": [
    "def createUploadProcess(object:Path,object_storage_client,namespace,proc_list): \n",
    "  name = object.relative_to(p).as_posix() \n",
    "  sema.acquire() \n",
    "  process = Process(target=upload_to_object_storage, args=(object.as_posix(),name,object_storage_client,namespace)) \n",
    "  proc_list.append(process) \n",
    "  process.start() "
   ]
  },
  {
   "cell_type": "code",
   "execution_count": null,
   "id": "111f1919",
   "metadata": {},
   "outputs": [],
   "source": [
    "def processDirectoryObjects(object:Path,object_storage_client,namespace,proc_list): \n",
    "  if object.is_file(): \n",
    "    createUploadProcess(object,object_storage_client,namespace,proc_list) "
   ]
  },
  {
   "cell_type": "code",
   "execution_count": null,
   "id": "5e0df723",
   "metadata": {},
   "outputs": [],
   "source": [
    "def processDirectory(path:Path,object_storage_client,namespace,proc_list): \n",
    "  if path.exists(): \n",
    "    print(\"in directory ---- \" + path.relative_to(p).as_posix()) \n",
    "    for objects in path.iterdir(): \n",
    "      if objects.is_dir(): \n",
    "        processDirectory(objects,object_storage_client,namespace,proc_list) \n",
    "      else: \n",
    "        processDirectoryObjects(objects,object_storage_client,namespace,proc_list) "
   ]
  },
  {
   "cell_type": "code",
   "execution_count": null,
   "id": "a6fa45df",
   "metadata": {},
   "outputs": [],
   "source": [
    "config = oci.config.from_file() \n",
    "object_storage_client = oci.object_storage.ObjectStorageClient(config) \n",
    "namespace = object_storage_client.get_namespace().data \n",
    "proc_list: array = [] \n",
    "sema = Semaphore(concurrency) \n",
    "if p.exists() and p.is_dir(): \n",
    "    processDirectory(p,object_storage_client,namespace,proc_list) \n",
    "for job in proc_list: \n",
    "    job.join()"
   ]
  },
  {
   "cell_type": "code",
   "execution_count": null,
   "id": "34221235",
   "metadata": {},
   "outputs": [],
   "source": []
  },
  {
   "cell_type": "code",
   "execution_count": null,
   "id": "de59d5f7",
   "metadata": {},
   "outputs": [],
   "source": []
  }
 ],
 "metadata": {
  "kernelspec": {
   "display_name": "Python [conda env:vulcanv2_0]",
   "language": "python",
   "name": "conda-env-vulcanv2_0-py"
  },
  "language_info": {
   "codemirror_mode": {
    "name": "ipython",
    "version": 3
   },
   "file_extension": ".py",
   "mimetype": "text/x-python",
   "name": "python",
   "nbconvert_exporter": "python",
   "pygments_lexer": "ipython3",
   "version": "3.7.16"
  }
 },
 "nbformat": 4,
 "nbformat_minor": 5
}
